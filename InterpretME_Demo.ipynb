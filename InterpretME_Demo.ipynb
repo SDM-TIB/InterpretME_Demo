{
 "cells": [
  {
   "cell_type": "markdown",
   "id": "16d2e2c5",
   "metadata": {},
   "source": [
    "# Demo: InterpretME over the French Royalty KG"
   ]
  },
  {
   "cell_type": "markdown",
   "id": "4060061d-8115-4d53-a6c0-753b0fa36cdd",
   "metadata": {},
   "source": [
    "<center><img src=\"Image/InterpretME-Train_Deduce_Explain.png\" alt=\"InterpretME\" />"
   ]
  },
  {
   "cell_type": "markdown",
   "id": "7f1afceb",
   "metadata": {},
   "source": [
    "<font size=3> Proposing an analytical tool, **InterpretME**, that integrates the data either from KGs or datasets, i.e., CSV and JSON format aiming to exploit the semantic information, prediction, interpretation as well as traversing about an entity and generate the InterpretME KG with all traced metadata about the trained model to provide the user more meaningful and trustable interpretations. "
   ]
  },
  {
   "cell_type": "markdown",
   "id": "167e8317",
   "metadata": {},
   "source": [
    "`Overview`: This an example on how **InterpretME** can be used to interpret the prediction and trace back a particular target entity. The KG of the *French Royalty Benchmark* is a fully curated subset of DBpedia; for each person we added the class `dbo:Person` as well as different properties like the number of children or predecessors, and further triple related counts. Here, the predictive task is a binary classification to predict whether a person has a spouse. The statistics of the *French Royalty KG* are presented in the following:"
   ]
  },
  {
   "cell_type": "markdown",
   "id": "5774cfe1",
   "metadata": {},
   "source": [
    "| #triples | #entities | #predicates | #objects | #triples / #entities |\n",
    "| :-: | :-: | :-: | :-: | :-: |\n",
    "| 31,599 | 3,439 | 133 | 4,390 | 9.18 |"
   ]
  },
  {
   "cell_type": "markdown",
   "id": "eb33924b",
   "metadata": {},
   "source": [
    "Importing required modules from **InterpretME** library:\n",
    "\n",
    "* `pipeline()`: Run the predictive tasks and interpretation tools (e.g., LIME).\n",
    "* `plots.sampling()`: Generates plot of the target class distribution.\n",
    "* `plots.feature_importance()`: Creates bar plot of important features.\n",
    "* `plots.decision_trees()`: Generates trees of predictions made by predictive model.\n",
    "* `plots.constraints_decision_trees()`: Trees are incorporated with SHACL validation results.\n",
    "* `federated()`: Query the *InterpretME KG* and the input KG to trace back all properties of a target entity.\n"
   ]
  },
  {
   "cell_type": "code",
   "execution_count": 1,
   "id": "568d812b",
   "metadata": {
    "pycharm": {
     "is_executing": true
    }
   },
   "outputs": [],
   "source": [
    "%load_ext autoreload\n",
    "%autoreload 2\n",
    "%matplotlib inline\n",
    "from IPython.display import SVG, display\n",
    "import os\n",
    "def show_svg(rel_path):\n",
    "    if type(rel_path) == list:\n",
    "        for path in rel_path:\n",
    "            show_svg(path)\n",
    "    else:\n",
    "        display(SVG(url='file://' + os.getcwd() + '/' + rel_path))\n",
    "\n",
    "from InterpretME import pipeline, plots"
   ]
  },
  {
   "cell_type": "markdown",
   "id": "7b438562",
   "metadata": {},
   "source": [
    "**InterpretME** takes a JSON file as input (i.e., *URL of the input KG or path to dataset, features’ definition, target class definition, SHACL constraints, sampling strategy, class definition*); a `SPARQL query` is generated based on the feature definition given by the user and the query is used to retrieve the application domain data from the input KG."
   ]
  },
  {
   "cell_type": "markdown",
   "id": "59ca3c77",
   "metadata": {},
   "source": [
    "Given the input **KG** that integrates the features’ and class target definitions about French Royalty; and their SHACL constraints. The features’ definition is classified into independent and dependent variables; later used in the predictive modeling pipeline. The features can be defined in the following format:\n",
    "\n",
    "```JSON\n",
    "{\n",
    "  \"Endpoint\": \"https://labs.tib.eu/sdm/InterpretME-og/sparql\",\n",
    "  \"Index_var\": \"Person\",\n",
    "  \"Independent_variable\": {\n",
    "    \"x\": \"?x a <http://dbpedia.org/ontology/Person>.\\n \",\n",
    "    \"gender\": \"Optional { ?x <http://dbpedia.org/ontology/gender> ?gender }\"},\n",
    "  \"Dependent_variable\": {\n",
    "    \"HasSpouse\": \"{ SELECT ?x, ((?partners > 0) AS ?HasSpouse) WHERE { ?x <http://dbpedia.org/ontology/numSpouses> ?partners . }} \\n\"}\n",
    "  \"Constraints\": [{\n",
    "    \"name\": \"C1\",\n",
    "    \"inverted\": false,\n",
    "    \"shape_schema_dir\": \"shapes/french_royalty/spouse/rule1\",\n",
    "    \"target_shape\": \"Spouse\"\n",
    "  }],\n",
    "  \"classes\": {\n",
    "    \"NoSpouse\": \"0\",\n",
    "    \"HasSpouse\": \"1\"\n",
    "  },\n",
    "  \"sampling_strategy\": \"undersampling\",\n",
    "  \"number_important_features\": 5,\n",
    "  \"cross_validation_folds\": 5,\n",
    "  \"test_split\": 0.3,\n",
    "  \"model\": \"Random Forest\"\n",
    "}\n",
    "```"
   ]
  },
  {
   "cell_type": "markdown",
   "id": "4c92a34c",
   "metadata": {},
   "source": [
    "<div class=\"alert alert-info\"><b>Note:</b> As of v1.2.0, InterpretME is also able to work with CSV and JSON datasets. See `example_csv_french_royalty.json` for an example configuration for datasets.</div>"
   ]
  },
  {
   "cell_type": "markdown",
   "id": "94e89fd3",
   "metadata": {},
   "source": [
    "The purpose of `pipeline()` is to assemble several components of **InterpretME** [1] that can be evaluated together while setting different parameters. First, it starts with evaluating the SHACL constraints over the nodes of input KGs and generates a validation report per target entity. The *data preprocessing* step includes transforming the data extracted from the input KG into a form that can be used to train the predictive pipeline. To avoid imbalance, the sampling strategy defined by the user is deployed. The *predictive model building* step can be achieved based on user preferences. Given the French Royalty preprocessed data, automated tools are utilized for models (e.g., *Ensemble Learning*) and to optimize the hyperparameter selection (e.g., *AutoML*) for predictive tasks. Here, the automated predictive model can perform stratified shuffle split cross-validation with *Random Forest*, *Adaboost Classifier*, or *Gradient Boosting Classifier* and identify the relevant features; they are used to train a *Decision Tree* classifier to predict and visualize the outcomes. The current version of InterpretME uses *LIME* [2] to have local interpretations of the target entities. *LIME* also identifies the top-10 relevant features for the target entity and assigns weights. The traced metadata collected from the trained predictive model is later used for creation of the InterpretME KG. To incorporate the metadata gathered from the predictive pipeline into the **InterpretME KG**, RML mappings are defined. SDM-RDFizer [3], an efficient RML engine for creating knowledge graphs, semantifies the metadata using the RML mappings. InterpretME extends the ML schema vocab, it is avaiable on [VoCol](http://ontology.tib.eu/InterpretME/).  "
   ]
  },
  {
   "cell_type": "code",
   "execution_count": 2,
   "id": "0172ae9c",
   "metadata": {},
   "outputs": [
    {
     "data": {
      "application/vnd.jupyter.widget-view+json": {
       "model_id": "f6e930820adc467b84dbe0d0fa73543a",
       "version_major": 2,
       "version_minor": 0
      },
      "text/plain": [
       "InterpretME Pipeline:   0%|          | 0/5 [00:00<?, ?task/s]"
      ]
     },
     "metadata": {},
     "output_type": "display_data"
    }
   ],
   "source": [
    "results = pipeline(path_config='./example_jupyter.json', lime_results='./output/LIME')"
   ]
  },
  {
   "cell_type": "markdown",
   "id": "490c2e4d",
   "metadata": {},
   "source": [
    "## Demonstration of Use Cases"
   ]
  },
  {
   "cell_type": "markdown",
   "id": "1e6366f8-be0a-4b08-9fce-18a8feae67cf",
   "metadata": {},
   "source": [
    "InterpretME aims to comprehend use cases that allow attendees for understanding of both the characteristics of a target entity in the predictive model and in the input KGs. We demonstrate the following use cases: "
   ]
  },
  {
   "cell_type": "markdown",
   "id": "a7678b9c-6382-4680-967a-73c54f289cae",
   "metadata": {},
   "source": [
    "<div class=\"alert-success\">\n",
    "    <font size=\"5\"> Unveiling Important Features </font>\n",
    "</div>"
   ]
  },
  {
   "cell_type": "markdown",
   "id": "72a39a8d-8238-4355-9e22-198ef90fce2a",
   "metadata": {},
   "source": [
    "**InterpretME** uses feature significance analysis to give users with insights into the most important characteristics of an ML model. This use case assists users in determining which input features have the most impact on the model's decisions. Users can get insights into the elements influencing the model's decision-making process by selecting the most relevant features and its contribution."
   ]
  },
  {
   "cell_type": "markdown",
   "id": "abf8bb75-b039-46df-a676-e598261c3774",
   "metadata": {},
   "source": [
    "Executing following *SPARQL* query over the **InterpretME KG** retrieves the most important features of a target entity (e.g., `Louis_XIV`) which is interpreted by tool, LIME, and with all feature contribution for ML models' prediction. Currently, InterpretME is customized for LIME, in future release, will be extended with other interpretable tools."
   ]
  },
  {
   "cell_type": "code",
   "execution_count": 3,
   "id": "bce199c2-a0f9-4df8-a378-b8d5040f6311",
   "metadata": {},
   "outputs": [],
   "source": [
    "from InterpretME.federated_query_engine import configuration, federated"
   ]
  },
  {
   "cell_type": "code",
   "execution_count": 4,
   "id": "cc294f19-b22b-411d-b5d5-f0e7be9b599a",
   "metadata": {},
   "outputs": [],
   "source": [
    "input_query = \"\"\"\n",
    "SELECT DISTINCT ?LIMEEntity ?InterpretableTool ?feature ?value ?targetClass \n",
    "WHERE {\n",
    "    SERVICE <https://labs.tib.eu/sdm/InterpretME-wog/sparql>{\n",
    "        FILTER( ?LIMEEntity=<http://interpretme.org/entity/Louis_XIV> )\n",
    "        ?entity a <http://interpretme.org/vocab/TargetEntity> .\n",
    "        ?entity <http://www.w3.org/2002/07/owl#sameAs> ?sourceEntity .\n",
    "        ?entity <http://interpretme.org/vocab/hasEntity> ?LIMEEntity .\n",
    "        ?entity <http://interpretme.org/vocab/hasInterpretedFeature> ?interpretedFeature .\n",
    "        ?interpretedFeature <http://www.w3.org/ns/prov#hasGeneratedBy> ?InterpretableTool .\n",
    "        ?interpretedFeature <http://interpretme.org/vocab/hasFeatureWeight> ?featureWeight .\n",
    "        ?entity <http://interpretme.org/vocab/hasEntityClassProbability> ?classProb .\n",
    "        ?classProb <http://interpretme.org/vocab/hasClass> ?targetClass .\n",
    "        FILTER(?targetClass = <http://interpretme.org/entity/1>)\n",
    "        ?featureWeight <http://interpretme.org/vocab/hasFeature> ?feature .\n",
    "        ?featureWeight <http://interpretme.org/vocab/hasWeight> ?value .\n",
    "    }\n",
    "} order by desc (?value)\n",
    "\"\"\""
   ]
  },
  {
   "cell_type": "code",
   "execution_count": 5,
   "id": "930644dd-381d-469e-8b2d-51bd63414098",
   "metadata": {},
   "outputs": [],
   "source": [
    "interpretme_endpoint = 'https://labs.tib.eu/sdm/InterpretME-wog/sparql'\n",
    "input_endpoint = 'https://labs.tib.eu/sdm/InterpretME-og/sparql'"
   ]
  },
  {
   "cell_type": "code",
   "execution_count": 6,
   "id": "a331af23-a231-4ff4-9859-92776bfc1f0e",
   "metadata": {},
   "outputs": [
    {
     "name": "stderr",
     "output_type": "stream",
     "text": [
      "2023-06-29 15:33:15,923 - rdfmts - INFO - https://labs.tib.eu/sdm/InterpretME-og/sparql: ['http://dbpedia.org/ontology/Person']\n",
      "2023-06-29 15:33:15,925 - rdfmts - INFO - http://dbpedia.org/ontology/Person\n",
      "2023-06-29 15:33:16,689 - rdfmts - INFO - =================================\n",
      "2023-06-29 15:33:16,691 - rdfmts - INFO - ----- DONE in 0.8822085857391357 seconds!-----\n",
      "2023-06-29 15:33:16,914 - DeTrusty.Wrapper.RDFWrapper - INFO - Contacting endpoint: https://labs.tib.eu/sdm/InterpretME-wog/sparql\n",
      "2023-06-29 15:33:16,914 - DeTrusty.Wrapper.RDFWrapper - INFO - Contacting endpoint: https://labs.tib.eu/sdm/InterpretME-wog/sparql\n"
     ]
    },
    {
     "data": {
      "text/html": [
       "<div>\n",
       "<style scoped>\n",
       "    .dataframe tbody tr th:only-of-type {\n",
       "        vertical-align: middle;\n",
       "    }\n",
       "\n",
       "    .dataframe tbody tr th {\n",
       "        vertical-align: top;\n",
       "    }\n",
       "\n",
       "    .dataframe thead th {\n",
       "        text-align: right;\n",
       "    }\n",
       "</style>\n",
       "<table border=\"1\" class=\"dataframe\">\n",
       "  <thead>\n",
       "    <tr style=\"text-align: right;\">\n",
       "      <th></th>\n",
       "      <th>targetEntity</th>\n",
       "      <th>feature</th>\n",
       "      <th>value</th>\n",
       "      <th>targetClass</th>\n",
       "    </tr>\n",
       "  </thead>\n",
       "  <tbody>\n",
       "    <tr>\n",
       "      <th>0</th>\n",
       "      <td>http://interpretme.org/entity/Louis_XIV</td>\n",
       "      <td>http://interpretme.org/entity/objects_1%20%3C%...</td>\n",
       "      <td>0.749627</td>\n",
       "      <td>http://interpretme.org/entity/1</td>\n",
       "    </tr>\n",
       "    <tr>\n",
       "      <th>1</th>\n",
       "      <td>http://interpretme.org/entity/Louis_XIV</td>\n",
       "      <td>http://interpretme.org/entity/subjects_1%20%3C...</td>\n",
       "      <td>0.207415</td>\n",
       "      <td>http://interpretme.org/entity/1</td>\n",
       "    </tr>\n",
       "    <tr>\n",
       "      <th>2</th>\n",
       "      <td>http://interpretme.org/entity/Louis_XIV</td>\n",
       "      <td>http://interpretme.org/entity/childs_0%20%3C%3...</td>\n",
       "      <td>0.0</td>\n",
       "      <td>http://interpretme.org/entity/1</td>\n",
       "    </tr>\n",
       "    <tr>\n",
       "      <th>3</th>\n",
       "      <td>http://interpretme.org/entity/Louis_XIV</td>\n",
       "      <td>http://interpretme.org/entity/gender_female%20...</td>\n",
       "      <td>-0.0292482</td>\n",
       "      <td>http://interpretme.org/entity/1</td>\n",
       "    </tr>\n",
       "    <tr>\n",
       "      <th>4</th>\n",
       "      <td>http://interpretme.org/entity/Louis_XIV</td>\n",
       "      <td>http://interpretme.org/entity/preds_1%20%3C%3D...</td>\n",
       "      <td>-0.000241988</td>\n",
       "      <td>http://interpretme.org/entity/1</td>\n",
       "    </tr>\n",
       "  </tbody>\n",
       "</table>\n",
       "</div>"
      ],
      "text/plain": [
       "                              targetEntity  \\\n",
       "0  http://interpretme.org/entity/Louis_XIV   \n",
       "1  http://interpretme.org/entity/Louis_XIV   \n",
       "2  http://interpretme.org/entity/Louis_XIV   \n",
       "3  http://interpretme.org/entity/Louis_XIV   \n",
       "4  http://interpretme.org/entity/Louis_XIV   \n",
       "\n",
       "                                             feature         value  \\\n",
       "0  http://interpretme.org/entity/objects_1%20%3C%...      0.749627   \n",
       "1  http://interpretme.org/entity/subjects_1%20%3C...      0.207415   \n",
       "2  http://interpretme.org/entity/childs_0%20%3C%3...           0.0   \n",
       "3  http://interpretme.org/entity/gender_female%20...    -0.0292482   \n",
       "4  http://interpretme.org/entity/preds_1%20%3C%3D...  -0.000241988   \n",
       "\n",
       "                       targetClass  \n",
       "0  http://interpretme.org/entity/1  \n",
       "1  http://interpretme.org/entity/1  \n",
       "2  http://interpretme.org/entity/1  \n",
       "3  http://interpretme.org/entity/1  \n",
       "4  http://interpretme.org/entity/1  "
      ]
     },
     "execution_count": 6,
     "metadata": {},
     "output_type": "execute_result"
    }
   ],
   "source": [
    "config = configuration(interpretme_endpoint, input_endpoint)\n",
    "query_answer = federated(input_query, config)\n",
    "query_answer"
   ]
  },
  {
   "cell_type": "markdown",
   "id": "2ae8f554-7d5b-4ab1-8b4b-0e6d20c3b511",
   "metadata": {},
   "source": [
    "<div class=\"alert-success\">\n",
    "    <font size=\"5\"> Insights Beyond Numbers </font>\n",
    "</div>"
   ]
  },
  {
   "cell_type": "markdown",
   "id": "b27452fc-bc30-49f1-b312-b50aeb63b221",
   "metadata": {},
   "source": [
    "**InterpretME** seek to provide users with a more in-depth understanding of how the ML model makes predictions and how a target entity is contextually connected in the Input KG, going beyond simple numerical outputs. Altough interpretable tools, such as LIME [2] offers interpretations for a particular target entity. This use case presents a *SPARQL* query over the InterpretME KG and the Input KG, where LIME provides the interpretations for two entities (e.g., `Louis_XIV` and `Philipp_III_of_Spain`) while both entities in the input KG presents same concept. Thus, InterpetME highlights the significance of considering semantics inside the ML model and interpretable tool, such as LIME."
   ]
  },
  {
   "cell_type": "code",
   "execution_count": null,
   "id": "e4ef8566-2c8a-452b-91aa-0d1404e936cf",
   "metadata": {},
   "outputs": [],
   "source": [
    "input_query = \"\"\"\n",
    "SELECT DISTINCT ?predicate ?object ?InterpretableTool ?feature ?value ?targetClass ?probability\n",
    "WHERE {\n",
    "    SERVICE <https://labs.tib.eu/sdm/InterpretME-wog/sparql> {\n",
    "        FILTER( ?LIMEentity=<http://interpretme.org/entity/Louis_XIV> )\n",
    "        ?entity a <http://interpretme.org/vocab/TargetEntity> .\n",
    "        ?entity <http://www.w3.org/2002/07/owl#sameAs> ?sourceEntity .\n",
    "        ?entity <http://interpretme.org/vocab/hasEntity> ?LIMEentity.\n",
    "        ?entity <http://interpretme.org/vocab/hasInterpretedFeature> ?interpretedFeature .\n",
    "        ?interpretedFeature <http://interpretme.org/vocab/hasFeatureWeight> ?featureWeight .\n",
    "        ?interpretedFeature <http://www.w3.org/ns/prov#hasGeneratedBy> ?InterpretableTool .\n",
    "        ?entity <http://interpretme.org/vocab/hasEntityClassProbability> ?classProb .\n",
    "        ?classProb <http://interpretme.org/vocab/hasPredictionProbability> ?probability .\n",
    "        ?classProb <http://interpretme.org/vocab/hasClass> ?targetClass .\n",
    "        ?featureWeight <http://interpretme.org/vocab/hasFeature> ?feature .\n",
    "        ?featureWeight <http://interpretme.org/vocab/hasWeight> ?value .\n",
    "    }\n",
    "\"\"\""
   ]
  },
  {
   "cell_type": "code",
   "execution_count": null,
   "id": "11b279f9-cfe7-4a00-880f-a0d2019bf67b",
   "metadata": {},
   "outputs": [],
   "source": [
    "interpretme_endpoint = 'https://labs.tib.eu/sdm/InterpretME-wog/sparql'\n",
    "input_endpoint = 'https://labs.tib.eu/sdm/InterpretME-og/sparql'"
   ]
  },
  {
   "cell_type": "code",
   "execution_count": null,
   "id": "f7d246cb-2068-4b75-8753-14764dd60bd6",
   "metadata": {},
   "outputs": [],
   "source": [
    "config = configuration(interpretme_endpoint, input_endpoint)\n",
    "query_answer = federated(input_query, config)\n",
    "query_answer"
   ]
  },
  {
   "cell_type": "markdown",
   "id": "00acabc8-61de-4745-beaf-933fefd496c3",
   "metadata": {},
   "source": [
    "<div class=\"alert-success\">\n",
    "    <font size=\"5\"> Validity of a Target Entity </font>\n",
    "</div>"
   ]
  },
  {
   "cell_type": "markdown",
   "id": "b42d1d56-5d7a-411c-b7e5-b7fe51e56cf9",
   "metadata": {},
   "source": [
    "InterpretME resorts to [TravSHACL](https://github.com/SDM-TIB/Trav-SHACL) [5] for ensuring the validity of a target entity. SHACL constraints are defined to check whether a target entity satisfy the domain constraints. For instance, constraint: ***If two people have a child, they are likely to have a spouse***. This gives the user a broader perspective on interpreting ML model decisions for entities that violate domain constraints."
   ]
  },
  {
   "cell_type": "code",
   "execution_count": 7,
   "id": "afea164d-3952-4b9a-9aa4-ff60f5f85dbd",
   "metadata": {},
   "outputs": [],
   "source": [
    "input_query =\"\"\"\n",
    "SELECT DISTINCT ?sourceEntity ?SHACLSchema ?SHACLShape ?SHACLConstraint  ?SHACLValidationResult\n",
    "WHERE {\n",
    "    SERVICE <https://labs.tib.eu/sdm/InterpretME-wog/sparql> {\n",
    "        FILTER( ?LIMEentity=<http://interpretme.org/entity/Louis_XIV> )\n",
    "        ?entity a <http://interpretme.org/vocab/TargetEntity> .\n",
    "        ?entity <http://www.w3.org/2002/07/owl#sameAs> ?sourceEntity .\n",
    "        ?entity <http://interpretme.org/vocab/hasEntity> ?LIMEentity .\n",
    "        ?entity <http://interpretme.org/vocab/hasSHACLIC> ?SHACLIC .\n",
    "        ?SHACLIC <http://interpretme.org/vocab/hasSHACLSchema> ?SHACLSchema .\n",
    "        ?SHACLIC <http://interpretme.org/vocab/hasSHACLShape> ?SHACLShape .\n",
    "        ?SHACLIC <http://interpretme.org/vocab/hasSHACLConstraint> ?SHACLConstraint .\n",
    "        ?SHACLIC <http://interpretme.org/vocab/hasSHACLResult> ?SHACLValidationResult .\n",
    "    }\n",
    "}\n",
    "\"\"\""
   ]
  },
  {
   "cell_type": "code",
   "execution_count": 8,
   "id": "fe750392-bf16-4f3e-8bf8-210f91f5c30f",
   "metadata": {},
   "outputs": [],
   "source": [
    "interpretme_endpoint = 'https://labs.tib.eu/sdm/InterpretME-wog/sparql'\n",
    "input_endpoint = 'https://labs.tib.eu/sdm/InterpretME-og/sparql'"
   ]
  },
  {
   "cell_type": "code",
   "execution_count": 9,
   "id": "9699fb20-2176-4ade-8f7d-3a68c7ceecfc",
   "metadata": {},
   "outputs": [
    {
     "name": "stderr",
     "output_type": "stream",
     "text": [
      "2023-06-29 15:36:02,820 - rdfmts - INFO - https://labs.tib.eu/sdm/InterpretME-og/sparql: ['http://dbpedia.org/ontology/Person']\n",
      "2023-06-29 15:36:02,823 - rdfmts - INFO - http://dbpedia.org/ontology/Person\n",
      "2023-06-29 15:36:03,622 - rdfmts - INFO - =================================\n",
      "2023-06-29 15:36:03,714 - rdfmts - INFO - ----- DONE in 1.0069730281829834 seconds!-----\n",
      "2023-06-29 15:36:03,763 - DeTrusty.Wrapper.RDFWrapper - INFO - Contacting endpoint: https://labs.tib.eu/sdm/InterpretME-wog/sparql\n",
      "2023-06-29 15:36:03,763 - DeTrusty.Wrapper.RDFWrapper - INFO - Contacting endpoint: https://labs.tib.eu/sdm/InterpretME-wog/sparql\n",
      "2023-06-29 15:36:03,763 - DeTrusty.Wrapper.RDFWrapper - INFO - Contacting endpoint: https://labs.tib.eu/sdm/InterpretME-wog/sparql\n"
     ]
    },
    {
     "data": {
      "text/html": [
       "<div>\n",
       "<style scoped>\n",
       "    .dataframe tbody tr th:only-of-type {\n",
       "        vertical-align: middle;\n",
       "    }\n",
       "\n",
       "    .dataframe tbody tr th {\n",
       "        vertical-align: top;\n",
       "    }\n",
       "\n",
       "    .dataframe thead th {\n",
       "        text-align: right;\n",
       "    }\n",
       "</style>\n",
       "<table border=\"1\" class=\"dataframe\">\n",
       "  <thead>\n",
       "    <tr style=\"text-align: right;\">\n",
       "      <th></th>\n",
       "      <th>sourceEntity</th>\n",
       "      <th>SHACLSchema</th>\n",
       "      <th>SHACLShape</th>\n",
       "      <th>SHACLConstraint</th>\n",
       "      <th>SHACLValidationResult</th>\n",
       "    </tr>\n",
       "  </thead>\n",
       "  <tbody>\n",
       "    <tr>\n",
       "      <th>0</th>\n",
       "      <td>http://dbpedia.org/resource/Louis_XIV</td>\n",
       "      <td>http://interpretme.org/entity/../example/shape...</td>\n",
       "      <td>http://interpretme.org/entity/Spouse</td>\n",
       "      <td>http://interpretme.org/entity/C10</td>\n",
       "      <td>http://interpretme.org/entity/True</td>\n",
       "    </tr>\n",
       "    <tr>\n",
       "      <th>1</th>\n",
       "      <td>http://dbpedia.org/resource/Louis_XIV</td>\n",
       "      <td>http://interpretme.org/entity/../example/shape...</td>\n",
       "      <td>http://interpretme.org/entity/Spouse</td>\n",
       "      <td>http://interpretme.org/entity/C2</td>\n",
       "      <td>http://interpretme.org/entity/True</td>\n",
       "    </tr>\n",
       "    <tr>\n",
       "      <th>2</th>\n",
       "      <td>http://dbpedia.org/resource/Louis_XIV</td>\n",
       "      <td>http://interpretme.org/entity/../example/shape...</td>\n",
       "      <td>http://interpretme.org/entity/Spouse</td>\n",
       "      <td>http://interpretme.org/entity/C5</td>\n",
       "      <td>http://interpretme.org/entity/True</td>\n",
       "    </tr>\n",
       "    <tr>\n",
       "      <th>3</th>\n",
       "      <td>http://dbpedia.org/resource/Louis_XIV</td>\n",
       "      <td>http://interpretme.org/entity/../example/shape...</td>\n",
       "      <td>http://interpretme.org/entity/Spouse</td>\n",
       "      <td>http://interpretme.org/entity/C1</td>\n",
       "      <td>http://interpretme.org/entity/True</td>\n",
       "    </tr>\n",
       "    <tr>\n",
       "      <th>4</th>\n",
       "      <td>http://dbpedia.org/resource/Louis_XIV</td>\n",
       "      <td>http://interpretme.org/entity/../example/shape...</td>\n",
       "      <td>http://interpretme.org/entity/Spouse</td>\n",
       "      <td>http://interpretme.org/entity/C9</td>\n",
       "      <td>http://interpretme.org/entity/True</td>\n",
       "    </tr>\n",
       "    <tr>\n",
       "      <th>5</th>\n",
       "      <td>http://dbpedia.org/resource/Louis_XIV</td>\n",
       "      <td>http://interpretme.org/entity/../example/shape...</td>\n",
       "      <td>http://interpretme.org/entity/Spouse</td>\n",
       "      <td>http://interpretme.org/entity/C6</td>\n",
       "      <td>http://interpretme.org/entity/True</td>\n",
       "    </tr>\n",
       "    <tr>\n",
       "      <th>6</th>\n",
       "      <td>http://dbpedia.org/resource/Louis_XIV</td>\n",
       "      <td>http://interpretme.org/entity/../example/shape...</td>\n",
       "      <td>http://interpretme.org/entity/Spouse</td>\n",
       "      <td>http://interpretme.org/entity/C7</td>\n",
       "      <td>http://interpretme.org/entity/True</td>\n",
       "    </tr>\n",
       "    <tr>\n",
       "      <th>7</th>\n",
       "      <td>http://dbpedia.org/resource/Louis_XIV</td>\n",
       "      <td>http://interpretme.org/entity/../example/shape...</td>\n",
       "      <td>http://interpretme.org/entity/Spouse</td>\n",
       "      <td>http://interpretme.org/entity/C4</td>\n",
       "      <td>http://interpretme.org/entity/True</td>\n",
       "    </tr>\n",
       "    <tr>\n",
       "      <th>8</th>\n",
       "      <td>http://dbpedia.org/resource/Louis_XIV</td>\n",
       "      <td>http://interpretme.org/entity/../example/shape...</td>\n",
       "      <td>http://interpretme.org/entity/Spouse</td>\n",
       "      <td>http://interpretme.org/entity/C3</td>\n",
       "      <td>http://interpretme.org/entity/True</td>\n",
       "    </tr>\n",
       "    <tr>\n",
       "      <th>9</th>\n",
       "      <td>http://dbpedia.org/resource/Louis_XIV</td>\n",
       "      <td>http://interpretme.org/entity/../example/shape...</td>\n",
       "      <td>http://interpretme.org/entity/Spouse</td>\n",
       "      <td>http://interpretme.org/entity/C8</td>\n",
       "      <td>http://interpretme.org/entity/True</td>\n",
       "    </tr>\n",
       "  </tbody>\n",
       "</table>\n",
       "</div>"
      ],
      "text/plain": [
       "                            sourceEntity  \\\n",
       "0  http://dbpedia.org/resource/Louis_XIV   \n",
       "1  http://dbpedia.org/resource/Louis_XIV   \n",
       "2  http://dbpedia.org/resource/Louis_XIV   \n",
       "3  http://dbpedia.org/resource/Louis_XIV   \n",
       "4  http://dbpedia.org/resource/Louis_XIV   \n",
       "5  http://dbpedia.org/resource/Louis_XIV   \n",
       "6  http://dbpedia.org/resource/Louis_XIV   \n",
       "7  http://dbpedia.org/resource/Louis_XIV   \n",
       "8  http://dbpedia.org/resource/Louis_XIV   \n",
       "9  http://dbpedia.org/resource/Louis_XIV   \n",
       "\n",
       "                                         SHACLSchema  \\\n",
       "0  http://interpretme.org/entity/../example/shape...   \n",
       "1  http://interpretme.org/entity/../example/shape...   \n",
       "2  http://interpretme.org/entity/../example/shape...   \n",
       "3  http://interpretme.org/entity/../example/shape...   \n",
       "4  http://interpretme.org/entity/../example/shape...   \n",
       "5  http://interpretme.org/entity/../example/shape...   \n",
       "6  http://interpretme.org/entity/../example/shape...   \n",
       "7  http://interpretme.org/entity/../example/shape...   \n",
       "8  http://interpretme.org/entity/../example/shape...   \n",
       "9  http://interpretme.org/entity/../example/shape...   \n",
       "\n",
       "                             SHACLShape                    SHACLConstraint  \\\n",
       "0  http://interpretme.org/entity/Spouse  http://interpretme.org/entity/C10   \n",
       "1  http://interpretme.org/entity/Spouse   http://interpretme.org/entity/C2   \n",
       "2  http://interpretme.org/entity/Spouse   http://interpretme.org/entity/C5   \n",
       "3  http://interpretme.org/entity/Spouse   http://interpretme.org/entity/C1   \n",
       "4  http://interpretme.org/entity/Spouse   http://interpretme.org/entity/C9   \n",
       "5  http://interpretme.org/entity/Spouse   http://interpretme.org/entity/C6   \n",
       "6  http://interpretme.org/entity/Spouse   http://interpretme.org/entity/C7   \n",
       "7  http://interpretme.org/entity/Spouse   http://interpretme.org/entity/C4   \n",
       "8  http://interpretme.org/entity/Spouse   http://interpretme.org/entity/C3   \n",
       "9  http://interpretme.org/entity/Spouse   http://interpretme.org/entity/C8   \n",
       "\n",
       "                SHACLValidationResult  \n",
       "0  http://interpretme.org/entity/True  \n",
       "1  http://interpretme.org/entity/True  \n",
       "2  http://interpretme.org/entity/True  \n",
       "3  http://interpretme.org/entity/True  \n",
       "4  http://interpretme.org/entity/True  \n",
       "5  http://interpretme.org/entity/True  \n",
       "6  http://interpretme.org/entity/True  \n",
       "7  http://interpretme.org/entity/True  \n",
       "8  http://interpretme.org/entity/True  \n",
       "9  http://interpretme.org/entity/True  "
      ]
     },
     "execution_count": 9,
     "metadata": {},
     "output_type": "execute_result"
    }
   ],
   "source": [
    "config = configuration(interpretme_endpoint, input_endpoint)\n",
    "query_answer = federated(input_query, config)\n",
    "query_answer"
   ]
  },
  {
   "cell_type": "markdown",
   "id": "0b7e269d-bc7a-4827-a677-0aaf35ff532c",
   "metadata": {},
   "source": [
    "<div class=\"alert-success\">\n",
    "    <font size=\"5\"> From Opacity to Clarity </font>\n",
    "</div>"
   ]
  },
  {
   "cell_type": "markdown",
   "id": "de7620bc",
   "metadata": {},
   "source": [
    "InterpretME helps user with KG federation, here [DeTrusty](https://github.com/SDM-TIB/DeTrusty) [4] a federated query engine is utilized to answer the user's questions via SPARQL queries over **both** the input KG and the *InterpretME KG*. The following query retrieves the main characteristics of target entity, for instance, `Louis_XIV` from the input KG and the InterpretME KG. Thus, InterpretME provides more comprehensive interpretations and ensure trust to better understand the ML models' decisions."
   ]
  },
  {
   "cell_type": "code",
   "execution_count": 10,
   "id": "ca82f26f-bd23-4c7b-aa78-074173ae3e25",
   "metadata": {},
   "outputs": [],
   "source": [
    "input_query = \"\"\"\n",
    "SELECT DISTINCT ?predicate ?object ?InterpretableTool ?feature ?value ?targetClass ?probability\n",
    "WHERE {\n",
    "    SERVICE <https://labs.tib.eu/sdm/InterpretME-wog/sparql> {\n",
    "        FILTER( ?LIMEentity=<http://interpretme.org/entity/Louis_XIV> )\n",
    "        ?entity a <http://interpretme.org/vocab/TargetEntity> .\n",
    "        ?entity <http://www.w3.org/2002/07/owl#sameAs> ?sourceEntity .\n",
    "        ?entity <http://interpretme.org/vocab/hasEntity> ?LIMEentity.\n",
    "        ?entity <http://interpretme.org/vocab/hasInterpretedFeature> ?interpretedFeature .\n",
    "        ?interpretedFeature <http://interpretme.org/vocab/hasFeatureWeight> ?featureWeight .\n",
    "        ?interpretedFeature <http://www.w3.org/ns/prov#hasGeneratedBy> ?InterpretableTool .\n",
    "        ?entity <http://interpretme.org/vocab/hasEntityClassProbability> ?classProb .\n",
    "        ?classProb <http://interpretme.org/vocab/hasPredictionProbability> ?probability .\n",
    "        ?classProb <http://interpretme.org/vocab/hasClass> ?targetClass .\n",
    "        ?featureWeight <http://interpretme.org/vocab/hasFeature> ?feature .\n",
    "        ?featureWeight <http://interpretme.org/vocab/hasWeight> ?value .\n",
    "    }\n",
    "    SERVICE <https://labs.tib.eu/sdm/InterpretME-og/sparql> {\n",
    "        ?sourceEntity ?predicate ?object\n",
    "    }\n",
    "}\n",
    "\"\"\""
   ]
  },
  {
   "cell_type": "code",
   "execution_count": 11,
   "id": "5a1b6158-e405-4318-ab24-df6929e9cd3a",
   "metadata": {},
   "outputs": [],
   "source": [
    "interpretme_endpoint = 'https://labs.tib.eu/sdm/InterpretME-wog/sparql'\n",
    "input_endpoint = 'https://labs.tib.eu/sdm/InterpretME-og/sparql'"
   ]
  },
  {
   "cell_type": "code",
   "execution_count": 12,
   "id": "78cd9627",
   "metadata": {},
   "outputs": [
    {
     "name": "stderr",
     "output_type": "stream",
     "text": [
      "2023-06-29 15:36:57,273 - rdfmts - INFO - https://labs.tib.eu/sdm/InterpretME-og/sparql: ['http://dbpedia.org/ontology/Person']\n",
      "2023-06-29 15:36:57,276 - rdfmts - INFO - http://dbpedia.org/ontology/Person\n",
      "2023-06-29 15:36:58,037 - rdfmts - INFO - =================================\n",
      "2023-06-29 15:36:58,039 - rdfmts - INFO - ----- DONE in 0.8792650699615479 seconds!-----\n",
      "2023-06-29 15:36:58,094 - DeTrusty.Wrapper.RDFWrapper - INFO - Contacting endpoint: https://labs.tib.eu/sdm/InterpretME-wog/sparql\n",
      "2023-06-29 15:36:58,094 - DeTrusty.Wrapper.RDFWrapper - INFO - Contacting endpoint: https://labs.tib.eu/sdm/InterpretME-wog/sparql\n",
      "2023-06-29 15:36:58,094 - DeTrusty.Wrapper.RDFWrapper - INFO - Contacting endpoint: https://labs.tib.eu/sdm/InterpretME-wog/sparql\n",
      "2023-06-29 15:36:58,094 - DeTrusty.Wrapper.RDFWrapper - INFO - Contacting endpoint: https://labs.tib.eu/sdm/InterpretME-wog/sparql\n",
      "2023-06-29 15:36:58,186 - DeTrusty.Wrapper.RDFWrapper - INFO - Contacting endpoint: https://labs.tib.eu/sdm/InterpretME-og/sparql\n",
      "2023-06-29 15:36:58,186 - DeTrusty.Wrapper.RDFWrapper - INFO - Contacting endpoint: https://labs.tib.eu/sdm/InterpretME-og/sparql\n",
      "2023-06-29 15:36:58,186 - DeTrusty.Wrapper.RDFWrapper - INFO - Contacting endpoint: https://labs.tib.eu/sdm/InterpretME-og/sparql\n",
      "2023-06-29 15:36:58,186 - DeTrusty.Wrapper.RDFWrapper - INFO - Contacting endpoint: https://labs.tib.eu/sdm/InterpretME-og/sparql\n"
     ]
    },
    {
     "data": {
      "text/html": [
       "<div>\n",
       "<style scoped>\n",
       "    .dataframe tbody tr th:only-of-type {\n",
       "        vertical-align: middle;\n",
       "    }\n",
       "\n",
       "    .dataframe tbody tr th {\n",
       "        vertical-align: top;\n",
       "    }\n",
       "\n",
       "    .dataframe thead th {\n",
       "        text-align: right;\n",
       "    }\n",
       "</style>\n",
       "<table border=\"1\" class=\"dataframe\">\n",
       "  <thead>\n",
       "    <tr style=\"text-align: right;\">\n",
       "      <th></th>\n",
       "      <th>predicate</th>\n",
       "      <th>object</th>\n",
       "      <th>InterpretableTool</th>\n",
       "      <th>feature</th>\n",
       "      <th>value</th>\n",
       "      <th>targetClass</th>\n",
       "      <th>probability</th>\n",
       "    </tr>\n",
       "  </thead>\n",
       "  <tbody>\n",
       "    <tr>\n",
       "      <th>0</th>\n",
       "      <td>http://www.w3.org/1999/02/22-rdf-syntax-ns#type</td>\n",
       "      <td>http://dbpedia.org/ontology/Person</td>\n",
       "      <td>http://interpretme.org/entity/LIME</td>\n",
       "      <td>http://interpretme.org/entity/childs_0%20%3C%3...</td>\n",
       "      <td>0.0</td>\n",
       "      <td>http://interpretme.org/entity/0</td>\n",
       "      <td>0.0653595</td>\n",
       "    </tr>\n",
       "    <tr>\n",
       "      <th>1</th>\n",
       "      <td>http://www.w3.org/1999/02/22-rdf-syntax-ns#type</td>\n",
       "      <td>http://dbpedia.org/ontology/Person</td>\n",
       "      <td>http://interpretme.org/entity/LIME</td>\n",
       "      <td>http://interpretme.org/entity/childs_0%20%3C%3...</td>\n",
       "      <td>0.0</td>\n",
       "      <td>http://interpretme.org/entity/1</td>\n",
       "      <td>0.934641</td>\n",
       "    </tr>\n",
       "    <tr>\n",
       "      <th>2</th>\n",
       "      <td>http://www.w3.org/1999/02/22-rdf-syntax-ns#type</td>\n",
       "      <td>http://dbpedia.org/ontology/Person</td>\n",
       "      <td>http://interpretme.org/entity/LIME</td>\n",
       "      <td>http://interpretme.org/entity/gender_female%20...</td>\n",
       "      <td>-0.0292482</td>\n",
       "      <td>http://interpretme.org/entity/1</td>\n",
       "      <td>0.934641</td>\n",
       "    </tr>\n",
       "    <tr>\n",
       "      <th>3</th>\n",
       "      <td>http://www.w3.org/1999/02/22-rdf-syntax-ns#type</td>\n",
       "      <td>http://dbpedia.org/ontology/Person</td>\n",
       "      <td>http://interpretme.org/entity/LIME</td>\n",
       "      <td>http://interpretme.org/entity/gender_female%20...</td>\n",
       "      <td>-0.0292482</td>\n",
       "      <td>http://interpretme.org/entity/0</td>\n",
       "      <td>0.0653595</td>\n",
       "    </tr>\n",
       "    <tr>\n",
       "      <th>4</th>\n",
       "      <td>http://www.w3.org/1999/02/22-rdf-syntax-ns#type</td>\n",
       "      <td>http://dbpedia.org/ontology/Person</td>\n",
       "      <td>http://interpretme.org/entity/LIME</td>\n",
       "      <td>http://interpretme.org/entity/objects_1%20%3C%...</td>\n",
       "      <td>0.749627</td>\n",
       "      <td>http://interpretme.org/entity/0</td>\n",
       "      <td>0.0653595</td>\n",
       "    </tr>\n",
       "    <tr>\n",
       "      <th>...</th>\n",
       "      <td>...</td>\n",
       "      <td>...</td>\n",
       "      <td>...</td>\n",
       "      <td>...</td>\n",
       "      <td>...</td>\n",
       "      <td>...</td>\n",
       "      <td>...</td>\n",
       "    </tr>\n",
       "    <tr>\n",
       "      <th>305</th>\n",
       "      <td>http://dbpedia.org/ontology/numSubjects</td>\n",
       "      <td>9</td>\n",
       "      <td>http://interpretme.org/entity/LIME</td>\n",
       "      <td>http://interpretme.org/entity/objects_1%20%3C%...</td>\n",
       "      <td>0.749627</td>\n",
       "      <td>http://interpretme.org/entity/1</td>\n",
       "      <td>0.934641</td>\n",
       "    </tr>\n",
       "    <tr>\n",
       "      <th>306</th>\n",
       "      <td>http://dbpedia.org/ontology/numSubjects</td>\n",
       "      <td>9</td>\n",
       "      <td>http://interpretme.org/entity/LIME</td>\n",
       "      <td>http://interpretme.org/entity/preds_1%20%3C%3D...</td>\n",
       "      <td>-0.000241988</td>\n",
       "      <td>http://interpretme.org/entity/0</td>\n",
       "      <td>0.0653595</td>\n",
       "    </tr>\n",
       "    <tr>\n",
       "      <th>307</th>\n",
       "      <td>http://dbpedia.org/ontology/numSubjects</td>\n",
       "      <td>9</td>\n",
       "      <td>http://interpretme.org/entity/LIME</td>\n",
       "      <td>http://interpretme.org/entity/preds_1%20%3C%3D...</td>\n",
       "      <td>-0.000241988</td>\n",
       "      <td>http://interpretme.org/entity/1</td>\n",
       "      <td>0.934641</td>\n",
       "    </tr>\n",
       "    <tr>\n",
       "      <th>308</th>\n",
       "      <td>http://dbpedia.org/ontology/numSubjects</td>\n",
       "      <td>9</td>\n",
       "      <td>http://interpretme.org/entity/LIME</td>\n",
       "      <td>http://interpretme.org/entity/subjects_1%20%3C...</td>\n",
       "      <td>0.207415</td>\n",
       "      <td>http://interpretme.org/entity/0</td>\n",
       "      <td>0.0653595</td>\n",
       "    </tr>\n",
       "    <tr>\n",
       "      <th>309</th>\n",
       "      <td>http://dbpedia.org/ontology/numSubjects</td>\n",
       "      <td>9</td>\n",
       "      <td>http://interpretme.org/entity/LIME</td>\n",
       "      <td>http://interpretme.org/entity/subjects_1%20%3C...</td>\n",
       "      <td>0.207415</td>\n",
       "      <td>http://interpretme.org/entity/1</td>\n",
       "      <td>0.934641</td>\n",
       "    </tr>\n",
       "  </tbody>\n",
       "</table>\n",
       "<p>310 rows × 7 columns</p>\n",
       "</div>"
      ],
      "text/plain": [
       "                                           predicate  \\\n",
       "0    http://www.w3.org/1999/02/22-rdf-syntax-ns#type   \n",
       "1    http://www.w3.org/1999/02/22-rdf-syntax-ns#type   \n",
       "2    http://www.w3.org/1999/02/22-rdf-syntax-ns#type   \n",
       "3    http://www.w3.org/1999/02/22-rdf-syntax-ns#type   \n",
       "4    http://www.w3.org/1999/02/22-rdf-syntax-ns#type   \n",
       "..                                               ...   \n",
       "305          http://dbpedia.org/ontology/numSubjects   \n",
       "306          http://dbpedia.org/ontology/numSubjects   \n",
       "307          http://dbpedia.org/ontology/numSubjects   \n",
       "308          http://dbpedia.org/ontology/numSubjects   \n",
       "309          http://dbpedia.org/ontology/numSubjects   \n",
       "\n",
       "                                 object                   InterpretableTool  \\\n",
       "0    http://dbpedia.org/ontology/Person  http://interpretme.org/entity/LIME   \n",
       "1    http://dbpedia.org/ontology/Person  http://interpretme.org/entity/LIME   \n",
       "2    http://dbpedia.org/ontology/Person  http://interpretme.org/entity/LIME   \n",
       "3    http://dbpedia.org/ontology/Person  http://interpretme.org/entity/LIME   \n",
       "4    http://dbpedia.org/ontology/Person  http://interpretme.org/entity/LIME   \n",
       "..                                  ...                                 ...   \n",
       "305                                   9  http://interpretme.org/entity/LIME   \n",
       "306                                   9  http://interpretme.org/entity/LIME   \n",
       "307                                   9  http://interpretme.org/entity/LIME   \n",
       "308                                   9  http://interpretme.org/entity/LIME   \n",
       "309                                   9  http://interpretme.org/entity/LIME   \n",
       "\n",
       "                                               feature         value  \\\n",
       "0    http://interpretme.org/entity/childs_0%20%3C%3...           0.0   \n",
       "1    http://interpretme.org/entity/childs_0%20%3C%3...           0.0   \n",
       "2    http://interpretme.org/entity/gender_female%20...    -0.0292482   \n",
       "3    http://interpretme.org/entity/gender_female%20...    -0.0292482   \n",
       "4    http://interpretme.org/entity/objects_1%20%3C%...      0.749627   \n",
       "..                                                 ...           ...   \n",
       "305  http://interpretme.org/entity/objects_1%20%3C%...      0.749627   \n",
       "306  http://interpretme.org/entity/preds_1%20%3C%3D...  -0.000241988   \n",
       "307  http://interpretme.org/entity/preds_1%20%3C%3D...  -0.000241988   \n",
       "308  http://interpretme.org/entity/subjects_1%20%3C...      0.207415   \n",
       "309  http://interpretme.org/entity/subjects_1%20%3C...      0.207415   \n",
       "\n",
       "                         targetClass probability  \n",
       "0    http://interpretme.org/entity/0   0.0653595  \n",
       "1    http://interpretme.org/entity/1    0.934641  \n",
       "2    http://interpretme.org/entity/1    0.934641  \n",
       "3    http://interpretme.org/entity/0   0.0653595  \n",
       "4    http://interpretme.org/entity/0   0.0653595  \n",
       "..                               ...         ...  \n",
       "305  http://interpretme.org/entity/1    0.934641  \n",
       "306  http://interpretme.org/entity/0   0.0653595  \n",
       "307  http://interpretme.org/entity/1    0.934641  \n",
       "308  http://interpretme.org/entity/0   0.0653595  \n",
       "309  http://interpretme.org/entity/1    0.934641  \n",
       "\n",
       "[310 rows x 7 columns]"
      ]
     },
     "execution_count": 12,
     "metadata": {},
     "output_type": "execute_result"
    }
   ],
   "source": [
    "config = configuration(interpretme_endpoint, input_endpoint)\n",
    "query_answer = federated(input_query, config)\n",
    "query_answer"
   ]
  },
  {
   "cell_type": "markdown",
   "id": "9e95a0e8",
   "metadata": {},
   "source": [
    "------------\n",
    "**References**\n",
    "\n",
    "[1] Y. Chudasama, D. Purohit, P.D. Rohde, J. Gercke, M.E. Vidal InterpretME v1.3.1, June 2023. DOI: [10.5281/zenodo.8109278](https://zenodo.org/record/8109278)\n",
    "\n",
    "[2] Marco Ribeiro, Sameer Singh, and Carlos Guestrin. \"Why Should I Trust You?\": Explaining the Predictions of Any Classifier. In: Proceedings of the 22nd ACM SIGKDD International Conference on Knowledge Discovery and Data Mining (KDD '16). ACM. 2016. DOI: [10.1145/2939672.2939778](https://dl.acm.org/doi/10.1145/2939672.2939778).\n",
    "\n",
    "[3] E. Iglesias, S. Jozashoori, D. Chaves-Fraga, D. Collarana and M.-E. Vidal. SDM-RDFizer: An RML Interpreter for the Efficient Creation of RDF Knowledge Graphs. In: CIKM ’20:Proceedings of the 29th ACM International Conference on Information & Knowledge Management, ACM, New York, NY,USA, 2020. DOI: [10.1145/3340531.3412881](https://dl.acm.org/doi/pdf/10.1145/3340531.3412881).\n",
    "\n",
    "[4] P.D. Rohde, M. Bechara and Avellino DeTrusty v0.12.2, February 2023. DOI: [10.5281/zenodo.8063472](https://zenodo.org/record/8063472).\n",
    "\n",
    "[5] Figuera, M., Rohde, P.D., Vidal, M.E.: Trav-SHACL: Efficiently Validating Networks of SHACL Constraints. In: The Web Conference. ACM, NY, USA (2021). DOI: [10.1145/3442381.3449877](https://arxiv.org/abs/2101.07136) "
   ]
  }
 ],
 "metadata": {
  "kernelspec": {
   "display_name": "Python 3 (ipykernel)",
   "language": "python",
   "name": "python3"
  },
  "language_info": {
   "codemirror_mode": {
    "name": "ipython",
    "version": 3
   },
   "file_extension": ".py",
   "mimetype": "text/x-python",
   "name": "python",
   "nbconvert_exporter": "python",
   "pygments_lexer": "ipython3",
   "version": "3.9.13"
  }
 },
 "nbformat": 4,
 "nbformat_minor": 5
}
